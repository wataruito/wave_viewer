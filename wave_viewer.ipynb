{
 "cells": [
  {
   "cell_type": "markdown",
   "id": "variable-reducing",
   "metadata": {},
   "source": [
    "---\n",
    "# Tkinterにmatplotlibグラフを埋め込む\n",
    "https://qiita.com/kotai2003/items/45953b4d037a62b2042c\n",
    "### Draw graph using matplotlib"
   ]
  },
  {
   "cell_type": "code",
   "execution_count": 1,
   "id": "economic-effectiveness",
   "metadata": {},
   "outputs": [
    {
     "name": "stdout",
     "output_type": "stream",
     "text": [
      "<class 'matplotlib.figure.Figure'>\n",
      "<class 'matplotlib.axes._subplots.AxesSubplot'>\n"
     ]
    },
    {
     "data": {
      "image/png": "[encoded data removed]",
      "text/plain": [
       "<Figure size 432x288 with 4 Axes>"
      ]
     },
     "metadata": {
      "needs_background": "light"
     },
     "output_type": "display_data"
    }
   ],
   "source": [
    "import numpy as np\n",
    "import matplotlib.pyplot as plt\n",
    "\n",
    "#Prepare Data\n",
    "x1 = np.linspace(0.0, 5.0)\n",
    "y1 = np.cos(2 * np.pi * x1) * np.exp(-x1)\n",
    "x2 = np.linspace(0.0, 3.0)\n",
    "y2 = np.cos(2 * np.pi * x2) * np.exp(-x1)\n",
    "\n",
    "\n",
    "# Figure instance\n",
    "fig = plt.figure()\n",
    "print(type(fig))\n",
    "\n",
    "#ax1 instance\n",
    "ax1 = fig.add_subplot(221)\n",
    "ax1.plot(x1, y1)\n",
    "ax1.set_title('line plot')\n",
    "ax1.set_ylabel('Damped oscillation')\n",
    "print(type(ax1))\n",
    "\n",
    "#ax2 instance\n",
    "ax2 = fig.add_subplot(222)\n",
    "ax2.scatter(x1, y1, marker='o')\n",
    "ax2.set_title('Scatter plot')\n",
    "\n",
    "#ax3 instance\n",
    "ax3 = fig.add_subplot(223)\n",
    "ax3.plot(x2,y2)\n",
    "ax3.set_ylabel('Damped oscillation')\n",
    "ax3.set_xlabel('time (s)')\n",
    "\n",
    "#ax4 instance\n",
    "ax4 = fig.add_subplot(224)\n",
    "ax4.scatter(x2, y2, marker='o')\n",
    "ax4.set_xlabel('time (s)')\n",
    "\n",
    "#Drawing\n",
    "plt.show()"
   ]
  },
  {
   "cell_type": "markdown",
   "id": "macro-currency",
   "metadata": {},
   "source": [
    "### Draw graph on Tkinter"
   ]
  },
  {
   "cell_type": "code",
   "execution_count": 2,
   "id": "cubic-typing",
   "metadata": {},
   "outputs": [],
   "source": [
    "import numpy as np\n",
    "import matplotlib.pyplot as plt\n",
    "from matplotlib.backends.backend_tkagg import FigureCanvasTkAgg\n",
    "import tkinter as tk\n",
    "\n",
    "# Prepare Data\n",
    "x1 = np.linspace(0.0, 5.0)\n",
    "y1 = np.cos(2 * np.pi * x1) * np.exp(-x1)\n",
    "x2 = np.linspace(0.0, 3.0)\n",
    "y2 = np.cos(2 * np.pi * x2) * np.exp(-x1)\n",
    "\n",
    "# Figure instance\n",
    "fig = plt.Figure()\n",
    "\n",
    "# ax1\n",
    "ax1 = fig.add_subplot(221)\n",
    "ax1.plot(x1, y1)\n",
    "ax1.set_title('line plot')\n",
    "ax1.set_ylabel('Damped oscillation')\n",
    "\n",
    "# ax2\n",
    "ax2 = fig.add_subplot(222)\n",
    "ax2.scatter(x1, y1, marker='o')\n",
    "ax2.set_title('Scatter plot')\n",
    "\n",
    "# ax3\n",
    "ax3 = fig.add_subplot(223)\n",
    "ax3.plot(x2, y2)\n",
    "ax3.set_ylabel('Damped oscillation')\n",
    "ax3.set_xlabel('time (s)')\n",
    "\n",
    "# ax4\n",
    "ax4 = fig.add_subplot(224)\n",
    "ax4.scatter(x2, y2, marker='o')\n",
    "ax4.set_xlabel('time (s)')\n",
    "\n",
    "\n",
    "# When windows is closed.\n",
    "\n",
    "def _destroyWindow():\n",
    "    root.quit()\n",
    "    root.destroy()\n",
    "\n",
    "\n",
    "# Tkinter Class\n",
    "\n",
    "root = tk.Tk()\n",
    "root.withdraw()\n",
    "root.protocol('WM_DELETE_WINDOW', _destroyWindow)  # When you close the tkinter window.\n",
    "\n",
    "# Canvas\n",
    "canvas = FigureCanvasTkAgg(fig, master=root)  # Generate canvas instance, Embedding fig in root\n",
    "canvas.draw()\n",
    "canvas.get_tk_widget().pack()\n",
    "#canvas._tkcanvas.pack()\n",
    "\n",
    "# root\n",
    "root.update()\n",
    "root.deiconify()\n",
    "root.mainloop()"
   ]
  },
  {
   "cell_type": "markdown",
   "id": "operational-error",
   "metadata": {},
   "source": [
    "---\n",
    "# PythonでPandasのPlot機能を使えばデータ加工からグラフ作成までマジでシームレス\n",
    "https://qiita.com/hik0107/items/de5785f680096df93efa"
   ]
  },
  {
   "cell_type": "markdown",
   "id": "incorrect-creator",
   "metadata": {},
   "source": [
    "---\n",
    "# matlab data file to pandas DataFrame [duplicate]\n",
    "https://stackoverflow.com/questions/38197449/matlab-data-file-to-pandas-dataframe"
   ]
  },
  {
   "cell_type": "code",
   "execution_count": 3,
   "id": "contained-channels",
   "metadata": {},
   "outputs": [
    {
     "name": "stdout",
     "output_type": "stream",
     "text": [
      "[('timestamps', '<f8', (4500000, 1)), ('data', '<f8', (4500000, 6)), ('amp', '<f8', (4500000, 6)), ('phase', '<f8', (4500000, 6)), ('filterparms', [('passband', '<f8', (1, 2)), ('stopband', '<f8', (0, 0)), ('order', '<f8', (1, 1))], (1,)), ('samplingRate', '<f8', (1, 1))]\n",
      "('timestamps', 'data', 'amp', 'phase', 'filterparms', 'samplingRate')\n"
     ]
    }
   ],
   "source": [
    "import numpy as np\n",
    "import scipy.io\n",
    "import hdf5storage\n",
    "\n",
    "mat_path = r'W:\\wataru\\Recording_Analysis\\Bases_dmPFC-BLA\\2017-12-19_vm81a_base\\RIG01_171219_140419_gamma.mat'\n",
    "gamma = hdf5storage.loadmat(mat_path)['gamma']\n",
    "# gamma = hdf5storage.loadmat(mat_path)\n",
    "\n",
    "print(gamma.dtype)\n",
    "print(gamma.dtype.names)\n",
    "\n",
    "data = np.squeeze(gamma['data'])\n",
    "timestamps = np.squeeze(gamma['timestamps'])\n",
    "# gamma.shape"
   ]
  },
  {
   "cell_type": "code",
   "execution_count": 4,
   "id": "upset-analyst",
   "metadata": {},
   "outputs": [
    {
     "data": {
      "text/plain": [
       "(4500000, 6)"
      ]
     },
     "execution_count": 4,
     "metadata": {},
     "output_type": "execute_result"
    }
   ],
   "source": [
    "data.shape"
   ]
  },
  {
   "cell_type": "code",
   "execution_count": 5,
   "id": "portable-aberdeen",
   "metadata": {},
   "outputs": [
    {
     "data": {
      "text/plain": [
       "(4500000,)"
      ]
     },
     "execution_count": 5,
     "metadata": {},
     "output_type": "execute_result"
    }
   ],
   "source": [
    "timestamps.shape"
   ]
  },
  {
   "cell_type": "markdown",
   "id": "instant-nevada",
   "metadata": {},
   "source": [
    "---\n",
    "# Pythonでグラフ（Matplotlib）を表示して動的に変更する\n",
    "https://water2litter.net/rum/post/python_tkinter_matplotlib/"
   ]
  },
  {
   "cell_type": "code",
   "execution_count": 6,
   "id": "purple-colonial",
   "metadata": {},
   "outputs": [],
   "source": [
    "import tkinter as tk\n",
    "from matplotlib.backends.backend_tkagg import FigureCanvasTkAgg, NavigationToolbar2Tk\n",
    "from matplotlib.figure import Figure\n",
    "import numpy as np\n",
    "\n",
    "class Application(tk.Frame):\n",
    "    def __init__(self, master=None):\n",
    "        super().__init__(master)\n",
    "        self.master = master\n",
    "        self.master.title('Matplotlib in tkinter')\n",
    "        self.pack()\n",
    "        self.create_widgets()\n",
    "        self.start_up()\n",
    "        self.draw_plot()\n",
    "\n",
    "    def create_widgets(self):\n",
    "        self.canvas_frame = tk.Frame(self.master)\n",
    "        self.canvas_frame.pack(side=tk.LEFT)\n",
    "        self.control_frame = tk.Frame(self.master)\n",
    "        self.control_frame.pack(side=tk.RIGHT)\n",
    "\n",
    "        self.canvas = FigureCanvasTkAgg(fig, self.canvas_frame)\n",
    "        self.canvas.draw()\n",
    "        self.canvas.get_tk_widget().pack(side=tk.TOP, fill=tk.BOTH, expand=True)\n",
    "\n",
    "        self.toolbar = NavigationToolbar2Tk(self.canvas, self.canvas_frame)\n",
    "        self.toolbar.update()\n",
    "        self.canvas.get_tk_widget().pack(side=tk.TOP, fill=tk.BOTH, expand=True)\n",
    "\n",
    "        self.x_v = tk.DoubleVar()\n",
    "        self.x_scale = tk.Scale(self.control_frame,\n",
    "            variable=self.x_v,\n",
    "            from_=0.0,\n",
    "            to=10.0,\n",
    "            resolution=0.1,\n",
    "            orient=tk.HORIZONTAL,\n",
    "            command=self.draw_plot)\n",
    "        self.x_scale.pack(anchor=tk.NW)\n",
    "\n",
    "        self.y_v = tk.DoubleVar()\n",
    "        self.y_scale = tk.Scale(self.control_frame,\n",
    "            variable=self.y_v,\n",
    "            from_=0.0,\n",
    "            to=10.0,\n",
    "            resolution=0.1,\n",
    "            orient=tk.HORIZONTAL,\n",
    "            command=self.draw_plot)\n",
    "        self.y_scale.pack(anchor=tk.NW)\n",
    "\n",
    "    def start_up(self):\n",
    "        self.x_v.set(1.0)\n",
    "        self.y_v.set(1.0)\n",
    "\n",
    "    def draw_plot(self, event=None):\n",
    "        global h\n",
    "        v = self.x_v.get()\n",
    "        w = self.y_v.get()\n",
    "        t = np.arange(0.0, 6.29, 0.01)\n",
    "        x = np.cos(v * t)\n",
    "        y = np.sin(w * t)\n",
    "        h.set_xdata(x)\n",
    "        h.set_ydata(y)\n",
    "        self.canvas.draw()\n",
    "\n",
    "fig = Figure(figsize=(5, 5), dpi=100)\n",
    "ax = fig.add_subplot(111)\n",
    "ax.set_xlim(-1.2,1.2)\n",
    "ax.set_ylim(-1.2,1.2)\n",
    "h, = ax.plot([],[], 'green')\n",
    "\n",
    "root = tk.Tk()\n",
    "app = Application(master=root)\n",
    "app.mainloop()"
   ]
  },
  {
   "cell_type": "markdown",
   "id": "innocent-mobile",
   "metadata": {},
   "source": [
    "# Repeat random plotting"
   ]
  },
  {
   "cell_type": "code",
   "execution_count": null,
   "id": "macro-homework",
   "metadata": {},
   "outputs": [],
   "source": [
    "import random\n",
    "import matplotlib.pyplot as pyplot\n",
    "import time\n",
    "\n",
    "pyplot.ion()\n",
    "\n",
    "x = range(10)\n",
    "y = lambda m: [m*random.random() for i in range(10)]\n",
    "\n",
    "pLine, = pyplot.plot(x, y(1))\n",
    "\n",
    "for i in range(10):\n",
    "    # time.sleep(1)\n",
    "    pLine.set_ydata(y(i+1))\n",
    "\n",
    "    ax = pyplot.gca()\n",
    "\n",
    "    # recompute the ax.dataLim\n",
    "    ax.relim()\n",
    "    # update ax.viewLim using the new dataLim\n",
    "    ax.autoscale_view()\n",
    "    pyplot.show()\n",
    "    pyplot.pause(2)"
   ]
  },
  {
   "cell_type": "markdown",
   "id": "olympic-effort",
   "metadata": {},
   "source": [
    "# I don't know what it is"
   ]
  },
  {
   "cell_type": "code",
   "execution_count": 8,
   "id": "technical-melbourne",
   "metadata": {},
   "outputs": [
    {
     "ename": "AttributeError",
     "evalue": "'FigureCanvasTkAgg' object has no attribute '_tkphoto'",
     "output_type": "error",
     "traceback": [
      "\u001b[1;31m---------------------------------------------------------------------------\u001b[0m",
      "\u001b[1;31mAttributeError\u001b[0m                            Traceback (most recent call last)",
      "\u001b[1;32m<ipython-input-8-784f9d763625>\u001b[0m in \u001b[0;36m<module>\u001b[1;34m\u001b[0m\n\u001b[0;32m     30\u001b[0m \u001b[0mfig\u001b[0m\u001b[1;33m.\u001b[0m\u001b[0mgca\u001b[0m\u001b[1;33m(\u001b[0m\u001b[1;33m)\u001b[0m\u001b[1;33m.\u001b[0m\u001b[0mclear\u001b[0m\u001b[1;33m(\u001b[0m\u001b[1;33m)\u001b[0m\u001b[1;33m\u001b[0m\u001b[1;33m\u001b[0m\u001b[0m\n\u001b[0;32m     31\u001b[0m \u001b[0mfig\u001b[0m\u001b[1;33m.\u001b[0m\u001b[0mgca\u001b[0m\u001b[1;33m(\u001b[0m\u001b[1;33m)\u001b[0m\u001b[1;33m.\u001b[0m\u001b[0mplot\u001b[0m\u001b[1;33m(\u001b[0m\u001b[1;33m[\u001b[0m\u001b[1;36m1\u001b[0m\u001b[1;33m,\u001b[0m\u001b[1;36m2\u001b[0m\u001b[1;33m,\u001b[0m\u001b[1;36m3\u001b[0m\u001b[1;33m]\u001b[0m\u001b[1;33m,\u001b[0m\u001b[1;33m[\u001b[0m\u001b[1;36m4\u001b[0m\u001b[1;33m,\u001b[0m\u001b[1;36m5\u001b[0m\u001b[1;33m,\u001b[0m\u001b[1;36m6\u001b[0m\u001b[1;33m]\u001b[0m\u001b[1;33m)\u001b[0m\u001b[1;33m\u001b[0m\u001b[1;33m\u001b[0m\u001b[0m\n\u001b[1;32m---> 32\u001b[1;33m \u001b[0mfig\u001b[0m\u001b[1;33m.\u001b[0m\u001b[0mcanvas\u001b[0m\u001b[1;33m.\u001b[0m\u001b[0mdraw\u001b[0m\u001b[1;33m(\u001b[0m\u001b[1;33m)\u001b[0m\u001b[1;33m\u001b[0m\u001b[1;33m\u001b[0m\u001b[0m\n\u001b[0m",
      "\u001b[1;32m~\\anaconda3\\envs\\wave_viewer\\lib\\site-packages\\matplotlib\\backends\\backend_tkagg.py\u001b[0m in \u001b[0;36mdraw\u001b[1;34m(self)\u001b[0m\n\u001b[0;32m      8\u001b[0m     \u001b[1;32mdef\u001b[0m \u001b[0mdraw\u001b[0m\u001b[1;33m(\u001b[0m\u001b[0mself\u001b[0m\u001b[1;33m)\u001b[0m\u001b[1;33m:\u001b[0m\u001b[1;33m\u001b[0m\u001b[1;33m\u001b[0m\u001b[0m\n\u001b[0;32m      9\u001b[0m         \u001b[0msuper\u001b[0m\u001b[1;33m(\u001b[0m\u001b[0mFigureCanvasTkAgg\u001b[0m\u001b[1;33m,\u001b[0m \u001b[0mself\u001b[0m\u001b[1;33m)\u001b[0m\u001b[1;33m.\u001b[0m\u001b[0mdraw\u001b[0m\u001b[1;33m(\u001b[0m\u001b[1;33m)\u001b[0m\u001b[1;33m\u001b[0m\u001b[1;33m\u001b[0m\u001b[0m\n\u001b[1;32m---> 10\u001b[1;33m         \u001b[0m_backend_tk\u001b[0m\u001b[1;33m.\u001b[0m\u001b[0mblit\u001b[0m\u001b[1;33m(\u001b[0m\u001b[0mself\u001b[0m\u001b[1;33m.\u001b[0m\u001b[0m_tkphoto\u001b[0m\u001b[1;33m,\u001b[0m \u001b[0mself\u001b[0m\u001b[1;33m.\u001b[0m\u001b[0mrenderer\u001b[0m\u001b[1;33m.\u001b[0m\u001b[0m_renderer\u001b[0m\u001b[1;33m,\u001b[0m \u001b[1;33m(\u001b[0m\u001b[1;36m0\u001b[0m\u001b[1;33m,\u001b[0m \u001b[1;36m1\u001b[0m\u001b[1;33m,\u001b[0m \u001b[1;36m2\u001b[0m\u001b[1;33m,\u001b[0m \u001b[1;36m3\u001b[0m\u001b[1;33m)\u001b[0m\u001b[1;33m)\u001b[0m\u001b[1;33m\u001b[0m\u001b[1;33m\u001b[0m\u001b[0m\n\u001b[0m\u001b[0;32m     11\u001b[0m         \u001b[0mself\u001b[0m\u001b[1;33m.\u001b[0m\u001b[0m_master\u001b[0m\u001b[1;33m.\u001b[0m\u001b[0mupdate_idletasks\u001b[0m\u001b[1;33m(\u001b[0m\u001b[1;33m)\u001b[0m\u001b[1;33m\u001b[0m\u001b[1;33m\u001b[0m\u001b[0m\n\u001b[0;32m     12\u001b[0m \u001b[1;33m\u001b[0m\u001b[0m\n",
      "\u001b[1;31mAttributeError\u001b[0m: 'FigureCanvasTkAgg' object has no attribute '_tkphoto'"
     ]
    },
    {
     "data": {
      "image/png": "[encoded data removed]",
      "text/plain": [
       "<Figure size 432x288 with 1 Axes>"
      ]
     },
     "metadata": {
      "needs_background": "light"
     },
     "output_type": "display_data"
    },
    {
     "name": "stderr",
     "output_type": "stream",
     "text": [
      "Exception in thread Thread-6:\n",
      "Traceback (most recent call last):\n",
      "  File \"C:\\Users\\User\\anaconda3\\envs\\wave_viewer\\lib\\threading.py\", line 932, in _bootstrap_inner\n",
      "    self.run()\n",
      "  File \"C:\\Users\\User\\anaconda3\\envs\\wave_viewer\\lib\\threading.py\", line 870, in run\n",
      "    self._target(*self._args, **self._kwargs)\n",
      "  File \"<ipython-input-8-784f9d763625>\", line 16, in PlottingThread\n",
      "  File \"C:\\Users\\User\\anaconda3\\envs\\wave_viewer\\lib\\site-packages\\matplotlib\\backends\\_backend_tk.py\", line 201, in __init__\n",
      "    self._tkcanvas = tk.Canvas(\n",
      "  File \"C:\\Users\\User\\anaconda3\\envs\\wave_viewer\\lib\\tkinter\\__init__.py\", line 2683, in __init__\n",
      "    Widget.__init__(self, master, 'canvas', cnf, kw)\n",
      "  File \"C:\\Users\\User\\anaconda3\\envs\\wave_viewer\\lib\\tkinter\\__init__.py\", line 2567, in __init__\n",
      "    self.tk.call(\n",
      "RuntimeError: main thread is not in main loop\n"
     ]
    }
   ],
   "source": [
    "import tkinter\n",
    "import threading\n",
    "import matplotlib\n",
    "import matplotlib.backends.backend_tkagg\n",
    "\n",
    "class Plotter():\n",
    "    def __init__(self,fig):\n",
    "        self.root = tkinter.Tk()\n",
    "        self.root.state(\"zoomed\")\n",
    "\n",
    "        self.fig = fig\n",
    "        t = threading.Thread(target=self.PlottingThread,args=(fig,))\n",
    "        t.start()\n",
    "\n",
    "    def PlottingThread(self,fig):     \n",
    "        canvas = matplotlib.backends.backend_tkagg.FigureCanvasTkAgg(fig, master=self.root)\n",
    "        canvas.show()\n",
    "        canvas.get_tk_widget().pack(side=Tkinter.TOP, fill=Tkinter.BOTH, expand=1)\n",
    "\n",
    "        toolbar = matplotlib.backends.backend_tkagg.NavigationToolbar2TkAgg(canvas, self.root)\n",
    "        toolbar.update()\n",
    "        canvas._tkcanvas.pack(side=Tkinter.TOP, fill=Tkinter.BOTH, expand=1)\n",
    "\n",
    "        self.root.mainloop()\n",
    "\n",
    "import pylab\n",
    "fig = matplotlib.pyplot.figure()\n",
    "Plotter(fig)\n",
    "\n",
    "fig.gca().clear()\n",
    "fig.gca().plot([1,2,3],[4,5,6])\n",
    "fig.canvas.draw()"
   ]
  },
  {
   "cell_type": "markdown",
   "id": "jewish-studio",
   "metadata": {},
   "source": [
    "# Key binding"
   ]
  },
  {
   "cell_type": "code",
   "execution_count": 9,
   "id": "foster-blackjack",
   "metadata": {},
   "outputs": [
    {
     "data": {
      "image/png": "[encoded data removed]",
      "text/plain": [
       "<Figure size 432x288 with 1 Axes>"
      ]
     },
     "metadata": {
      "needs_background": "light"
     },
     "output_type": "display_data"
    }
   ],
   "source": [
    "import sys\n",
    "import numpy as np\n",
    "import matplotlib.pyplot as plt\n",
    "\n",
    "\n",
    "def press(event):\n",
    "    print('press', event.key)\n",
    "    sys.stdout.flush()\n",
    "    if event.key == 'x':\n",
    "        visible = xl.get_visible()\n",
    "        xl.set_visible(not visible)\n",
    "        fig.canvas.draw()\n",
    "\n",
    "# Fixing random state for reproducibility\n",
    "np.random.seed(19680801)\n",
    "\n",
    "\n",
    "fig, ax = plt.subplots()\n",
    "\n",
    "fig.canvas.mpl_connect('key_press_event', press)\n",
    "\n",
    "ax.plot(np.random.rand(12), np.random.rand(12), 'go')\n",
    "xl = ax.set_xlabel('easy come, easy go')\n",
    "ax.set_title('Press a key')\n",
    "plt.show()"
   ]
  },
  {
   "cell_type": "markdown",
   "id": "polish-shield",
   "metadata": {},
   "source": [
    "---\n",
    "# working"
   ]
  },
  {
   "cell_type": "markdown",
   "id": "talented-petersburg",
   "metadata": {},
   "source": [
    "# Plot graph external window using Qt"
   ]
  },
  {
   "cell_type": "code",
   "execution_count": null,
   "id": "incoming-antibody",
   "metadata": {},
   "outputs": [],
   "source": [
    "%matplotlib qt"
   ]
  },
  {
   "cell_type": "markdown",
   "id": "illegal-comparative",
   "metadata": {},
   "source": [
    "# Read MATLAB gamma.mat"
   ]
  },
  {
   "cell_type": "code",
   "execution_count": 30,
   "id": "warming-harvey",
   "metadata": {},
   "outputs": [
    {
     "name": "stdout",
     "output_type": "stream",
     "text": [
      "[('timestamps', '<f8', (4500000, 1)), ('data', '<f8', (4500000, 6)), ('amp', '<f8', (4500000, 6)), ('phase', '<f8', (4500000, 6)), ('filterparms', [('passband', '<f8', (1, 2)), ('stopband', '<f8', (0, 0)), ('order', '<f8', (1, 1))], (1,)), ('samplingRate', '<f8', (1, 1))] ('timestamps', 'data', 'amp', 'phase', 'filterparms', 'samplingRate')\n",
      "float64 (4500000,) float64 (4500000,)\n"
     ]
    }
   ],
   "source": [
    "mat_path = r'W:\\wataru\\Recording_Analysis\\Bases_dmPFC-BLA\\2017-12-19_vm81a_base\\RIG01_171219_140419_gamma.mat'\n",
    "gamma = hdf5storage.loadmat(mat_path)['gamma']\n",
    "\n",
    "print(gamma.dtype, gamma.dtype.names)\n",
    "\n",
    "data = np.squeeze(gamma['data'][0,:,0])\n",
    "timestamps = np.squeeze(gamma['timestamps'])\n",
    "\n",
    "print(data.dtype,data.shape,timestamps.dtype,timestamps.shape)"
   ]
  },
  {
   "cell_type": "code",
   "execution_count": 8,
   "id": "foster-aquarium",
   "metadata": {},
   "outputs": [],
   "source": [
    "import sys\n",
    "import numpy as np\n",
    "import matplotlib.pyplot as plt\n",
    "import matplotlib as mpl\n",
    "from PyQt5 import QtCore\n",
    "import hdf5storage\n",
    "\n",
    "d_type = 'gamma'\n",
    "mat_path = r'gamma1_flat.mat'\n",
    "wave = hdf5storage.loadmat(mat_path)\n",
    "\n",
    "wave_data = np.squeeze(wave['data'])[:, 0]\n",
    "wave_timestamps = np.squeeze(wave['timestamps'])"
   ]
  },
  {
   "cell_type": "code",
   "execution_count": 9,
   "id": "mental-valuable",
   "metadata": {},
   "outputs": [
    {
     "data": {
      "text/plain": [
       "(450000,)"
      ]
     },
     "execution_count": 9,
     "metadata": {},
     "output_type": "execute_result"
    }
   ],
   "source": [
    "wave_data.shape"
   ]
  },
  {
   "cell_type": "code",
   "execution_count": 10,
   "id": "plastic-animation",
   "metadata": {},
   "outputs": [
    {
     "data": {
      "text/plain": [
       "(450000,)"
      ]
     },
     "execution_count": 10,
     "metadata": {},
     "output_type": "execute_result"
    }
   ],
   "source": [
    "wave_timestamps.shape"
   ]
  },
  {
   "cell_type": "markdown",
   "id": "auburn-ceremony",
   "metadata": {},
   "source": [
    "# Read MATLAB spectrogram with top level struct (1.2GB)"
   ]
  },
  {
   "cell_type": "code",
   "execution_count": 33,
   "id": "representative-croatia",
   "metadata": {},
   "outputs": [
    {
     "name": "stdout",
     "output_type": "stream",
     "text": [
      "float64 (58, 450001) float64 (450001,) float64 (58,)\n"
     ]
    }
   ],
   "source": [
    "mat_path = r'W:\\wataru\\Recording_Analysis\\Bases_dmPFC-BLA\\2017-12-19_vm81a_base\\RIG01_171219_140419_specg1.mat'\n",
    "spec = hdf5storage.loadmat(mat_path)['specg1']\n",
    "\n",
    "spec1 = np.squeeze(spec['powspctrm'][0,0,:,:])\n",
    "timestamps = np.squeeze(spec['time'])\n",
    "freq = np.squeeze(spec['freq'])\n",
    "\n",
    "print(spec1.dtype, spec1.shape,timestamps.dtype,timestamps.shape,freq.dtype, freq.shape)"
   ]
  },
  {
   "cell_type": "markdown",
   "id": "enormous-values",
   "metadata": {},
   "source": [
    "# Read MATLAB spectrogram without top level struct (flat format, 4GB)"
   ]
  },
  {
   "cell_type": "code",
   "execution_count": 20,
   "id": "analyzed-hearts",
   "metadata": {},
   "outputs": [
    {
     "name": "stdout",
     "output_type": "stream",
     "text": [
      "dict_keys(['cfg', 'dimord', 'freq', 'label', 'powspctrm', 'time'])\n",
      "float64 (201, 450001) float64 (450001,) float64 (201,)\n"
     ]
    }
   ],
   "source": [
    "import numpy as np\n",
    "import hdf5storage\n",
    "\n",
    "mat_path = r'W:\\wataru\\Recording_Analysis\\Bases_dmPFC-BLA\\2017-12-19_vm81a_base\\RIG01_171219_140419_specg_flat.mat'\n",
    "spec = hdf5storage.loadmat(mat_path)\n",
    "\n",
    "# list keys of dictionary\n",
    "print(spec.keys())\n",
    "\n",
    "spec_data = np.squeeze(spec['powspctrm'][0, :, :])\n",
    "spec_timestamps = np.squeeze(spec['time'])\n",
    "spec_freq = np.squeeze(spec['freq'])\n",
    "\n",
    "print(spec_data.dtype, spec_data.shape,spec_timestamps.dtype,spec_timestamps.shape,spec_freq.dtype, spec_freq.shape)"
   ]
  }
 ],
 "metadata": {
  "kernelspec": {
   "display_name": "Python 3",
   "language": "python",
   "name": "python3"
  },
  "language_info": {
   "codemirror_mode": {
    "name": "ipython",
    "version": 3
   },
   "file_extension": ".py",
   "mimetype": "text/x-python",
   "name": "python",
   "nbconvert_exporter": "python",
   "pygments_lexer": "ipython3",
   "version": "3.8.6"
  }
 },
 "nbformat": 4,
 "nbformat_minor": 5
}
